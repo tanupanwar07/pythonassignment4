{
 "cells": [
  {
   "cell_type": "markdown",
   "id": "a6635a2d",
   "metadata": {},
   "source": [
    "**1.*What exactly is [ ]*?**  \n",
    "\n",
    "[ ] is an empty list i.e; a list with no item."
   ]
  },
  {
   "cell_type": "markdown",
   "id": "fab11a40",
   "metadata": {},
   "source": [
    "**2.*In a list of values stored in a variable called spam, how would you assign the value &#39;hello&#39; as the\n",
    "third value? (Assume [2, 4, 6, 8, 10] are in spam.)*.** "
   ]
  },
  {
   "cell_type": "code",
   "execution_count": 16,
   "id": "c6dd4134",
   "metadata": {},
   "outputs": [],
   "source": [
    "spam=[2,4,6,8,10]"
   ]
  },
  {
   "cell_type": "code",
   "execution_count": 17,
   "id": "89b38255",
   "metadata": {},
   "outputs": [],
   "source": [
    "spam.insert(3,\"hello\")"
   ]
  },
  {
   "cell_type": "code",
   "execution_count": 18,
   "id": "b61e2b59",
   "metadata": {},
   "outputs": [
    {
     "name": "stdout",
     "output_type": "stream",
     "text": [
      "[2, 4, 6, 'hello', 8, 10]\n"
     ]
    }
   ],
   "source": [
    "print(spam)"
   ]
  },
  {
   "cell_type": "code",
   "execution_count": null,
   "id": "cfb201bb",
   "metadata": {},
   "outputs": [],
   "source": []
  },
  {
   "cell_type": "markdown",
   "id": "11b0fcde",
   "metadata": {},
   "source": [
    "**Let's pretend the spam includes the list ['a','b','c','d'] for the next three queries.**"
   ]
  },
  {
   "cell_type": "markdown",
   "id": "33ba8e64",
   "metadata": {},
   "source": [
    "**3.*What is the value of spam[int(int('3'*2)/11]* ?**\n",
    "\n",
    "    'd'  \n",
    "     \n",
    "     since, spam[int(int('3'*2)/11)] = spam[3] = 'd'\n",
    "   "
   ]
  },
  {
   "cell_type": "markdown",
   "id": "e58cb1e4",
   "metadata": {},
   "source": [
    "**4.*What is the value of spam[-1]*?**  \n",
    "     \n",
    "     'd'\n",
    "     "
   ]
  },
  {
   "cell_type": "markdown",
   "id": "c45bd982",
   "metadata": {},
   "source": [
    "**5.*What is the value of spam[:2]*?**\n",
    "     \n",
    "     ['a','b']\n",
    "    \n",
    "    "
   ]
  },
  {
   "cell_type": "code",
   "execution_count": null,
   "id": "048141c2",
   "metadata": {},
   "outputs": [],
   "source": []
  },
  {
   "cell_type": "markdown",
   "id": "a3738eed",
   "metadata": {},
   "source": [
    "**Let's pretend bacon has the list [3.14,'cat',11,'cat',True]**"
   ]
  },
  {
   "cell_type": "markdown",
   "id": "418ba935",
   "metadata": {},
   "source": [
    "**6.*What is the value of bacon.index('cat')*?**\n",
    "     \n",
    "     1"
   ]
  },
  {
   "cell_type": "markdown",
   "id": "3da4c791",
   "metadata": {},
   "source": [
    "**7.*How does bacon.append(99) change the look of the list value in bacon*?**\n",
    "    \n",
    "    bacon now looks like [3.14,'cat',11,'cat',True,99]"
   ]
  },
  {
   "cell_type": "markdown",
   "id": "eac17ac4",
   "metadata": {},
   "source": [
    "**8.*How does bacon.remove('cat') change the look of the list in bacon*?**\n",
    "     \n",
    "     bacon now looks like [3.14,11,'cat',True]"
   ]
  },
  {
   "cell_type": "markdown",
   "id": "6cd56ea3",
   "metadata": {},
   "source": [
    "**9.*What are the list concatenation and list replication operators*?**\n",
    "      \n",
    "      concatenation operator is '+'\n",
    "      replication operator is '*'"
   ]
  },
  {
   "cell_type": "markdown",
   "id": "2de79700",
   "metadata": {},
   "source": [
    "**10.*What is difference between the list methods append() and insert()*?**\n",
    "      \n",
    "      append() method adds the item at the end of the list while   \n",
    "      insert() method adds the item at a given index in a list.\n",
    "    \n",
    "   **syntax:**  \n",
    "      \n",
    "      append(item to be added)  \n",
    "      \n",
    "      insert(index number, item to be added)"
   ]
  },
  {
   "cell_type": "markdown",
   "id": "322d8502",
   "metadata": {},
   "source": [
    "**11.*What are the two methods for removing items from a list*?**\n",
    "      \n",
    "      pop()\n",
    "      \n",
    "      remove()\n",
    "      "
   ]
  },
  {
   "cell_type": "markdown",
   "id": "db599b65",
   "metadata": {},
   "source": [
    "**12.*Describe how list values and string values are identical*.**\n",
    "      \n",
    "      Both are sequences.\n",
    "      \n",
    "      "
   ]
  },
  {
   "cell_type": "markdown",
   "id": "428154f0",
   "metadata": {},
   "source": [
    "**13.*What is the difference between tuples and lists*?**\n",
    "     \n",
    "     Lists are surrounded by square brackets [] and Tuples are         surrounded by parenthesis ().  \n",
    "     \n",
    "     Lists are mutable in nature i.e., list can be modified after its creation whereas tuple are immutable in nature i.e., tuple can’t be modified after its creation.\n",
    "     \n",
    "      "
   ]
  },
  {
   "cell_type": "markdown",
   "id": "502fc02d",
   "metadata": {},
   "source": [
    "**14.*How do you type a tuple value that only contains the integer 42*?**\n",
    "      \n",
    "      (42,)\n",
    "     \n",
    "     \n",
    "   \n",
    "   "
   ]
  },
  {
   "cell_type": "code",
   "execution_count": 37,
   "id": "cb248692",
   "metadata": {},
   "outputs": [
    {
     "data": {
      "text/plain": [
       "tuple"
      ]
     },
     "execution_count": 37,
     "metadata": {},
     "output_type": "execute_result"
    }
   ],
   "source": [
    "type((42,))"
   ]
  },
  {
   "cell_type": "markdown",
   "id": "dc3e0389",
   "metadata": {},
   "source": [
    "**15.*How do you get a list value's tuple form? How do you get a tuple value's list form*?**  \n",
    "\n",
    "- get a list value's tuple form using **tuple()** in-buillt function.  \n",
    "- get a tuple value's list form using **list()** in-built function.\n",
    "      \n",
    "       \n",
    "      \n",
    "    \n",
    "      "
   ]
  },
  {
   "cell_type": "markdown",
   "id": "d57a970c",
   "metadata": {},
   "source": [
    "**16.*Variables that \"contain\" list values don't actually contain lists directly. What do they contain instead*?**  \n",
    "\n",
    "     They contains the values which refers to list value."
   ]
  },
  {
   "cell_type": "markdown",
   "id": "dc677209",
   "metadata": {},
   "source": [
    "**17.*What is the difference between copy.copy() and copy.deepcopy()*?**  \n",
    "     \n",
    "-    A shallow copy **copy.copy()** constructs a new compound object and then inserts references into it to the objects found in the original.    \n",
    "\n",
    "\n",
    "-    A deep copy **copy.deepcopy()** constructs a new compound object and then, recursively, inserts copies into it of the objects found in the original.\n",
    "\n",
    "     \n"
   ]
  },
  {
   "cell_type": "code",
   "execution_count": null,
   "id": "adb8c970",
   "metadata": {},
   "outputs": [],
   "source": []
  }
 ],
 "metadata": {
  "kernelspec": {
   "display_name": "Python 3 (ipykernel)",
   "language": "python",
   "name": "python3"
  },
  "language_info": {
   "codemirror_mode": {
    "name": "ipython",
    "version": 3
   },
   "file_extension": ".py",
   "mimetype": "text/x-python",
   "name": "python",
   "nbconvert_exporter": "python",
   "pygments_lexer": "ipython3",
   "version": "3.9.12"
  }
 },
 "nbformat": 4,
 "nbformat_minor": 5
}
